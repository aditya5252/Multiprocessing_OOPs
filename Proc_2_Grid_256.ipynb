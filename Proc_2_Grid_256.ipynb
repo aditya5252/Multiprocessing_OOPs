{
 "cells": [
  {
   "cell_type": "code",
   "execution_count": 11,
   "id": "98fd5852",
   "metadata": {},
   "outputs": [],
   "source": [
    "import numpy as np\n",
    "import torch.nn.functional as F\n",
    "import matplotlib.pyplot as plt"
   ]
  },
  {
   "cell_type": "code",
   "execution_count": null,
   "id": "e5ff0ff7",
   "metadata": {},
   "outputs": [],
   "source": [
    "'''\n",
    "CREATE SUPER OBJECT\n",
    "Create object of 256 array \n",
    "Divide into 2 objects of size 128\n",
    "Create additional objects for :\n",
    "    1. Buffer points \n",
    "    2. Boundary points \n",
    "'''"
   ]
  },
  {
   "cell_type": "code",
   "execution_count": null,
   "id": "4e313490",
   "metadata": {},
   "outputs": [],
   "source": [
    "'''\n",
    "Given grid object at time = t \n",
    "Create grid object at time = t + delt\n",
    "\n",
    "'''"
   ]
  },
  {
   "cell_type": "code",
   "execution_count": null,
   "id": "024a3edd",
   "metadata": {},
   "outputs": [],
   "source": [
    "'''\n",
    "First pad the input grid before applying any stencil \n",
    "\n",
    "stencil object gives given scheme's stencil \n",
    "Upwind\n",
    "Vanleer\n",
    "'''"
   ]
  },
  {
   "cell_type": "code",
   "execution_count": 38,
   "id": "a45a39a8",
   "metadata": {},
   "outputs": [],
   "source": [
    "class dist_grid_t:\n",
    "    def __init__(self,grid,n_procs):\n",
    "        self.grid=grid\n",
    "        self.n_procs=n_procs\n",
    "        self.sub_arr_list=[]\n",
    "        self.mul_arrays_t=self.divide_n()\n",
    "        self.combine_arr=np.concatenate(self.sub_arr_list)\n",
    "        \n",
    "        \n",
    "    def divide_n(self):\n",
    "        sub_arr_size=(self.grid.shape[0])//(self.n_procs)\n",
    "        for i in range(self.n_procs):\n",
    "            self.sub_arr_list.append(self.grid[sub_arr_size*i:sub_arr_size*(i+1)])\n",
    "        return np.array(self.sub_arr_list)"
   ]
  },
  {
   "cell_type": "code",
   "execution_count": 37,
   "id": "0119ccc8",
   "metadata": {},
   "outputs": [],
   "source": [
    "def time_progress(obt):\n",
    "    '''Take object at time = t \n",
    "    4 arrays in object \n",
    "    Each array progress further in time \n",
    "    To give 4 arrays in object new \n",
    "    left , right , periodic\n",
    "    \n",
    "    '''"
   ]
  },
  {
   "cell_type": "code",
   "execution_count": null,
   "id": "55bd2fd8",
   "metadata": {},
   "outputs": [],
   "source": []
  },
  {
   "cell_type": "code",
   "execution_count": null,
   "id": "2a0cbead",
   "metadata": {},
   "outputs": [],
   "source": []
  },
  {
   "cell_type": "code",
   "execution_count": 33,
   "id": "d720466f",
   "metadata": {},
   "outputs": [],
   "source": [
    "x1=np.linspace(0,2*np.pi,256)\n",
    "grid1=np.sin(x1)\n",
    "\n",
    "# plt.plot(x1,grid1)"
   ]
  },
  {
   "cell_type": "code",
   "execution_count": 36,
   "id": "e885fc32",
   "metadata": {},
   "outputs": [
    {
     "data": {
      "text/plain": [
       "(256,)"
      ]
     },
     "execution_count": 36,
     "metadata": {},
     "output_type": "execute_result"
    }
   ],
   "source": [
    "divx.mul_arrays_t.shape"
   ]
  },
  {
   "cell_type": "code",
   "execution_count": 40,
   "id": "3b719a54",
   "metadata": {},
   "outputs": [
    {
     "data": {
      "text/plain": [
       "(256,)"
      ]
     },
     "execution_count": 40,
     "metadata": {},
     "output_type": "execute_result"
    }
   ],
   "source": [
    "divx.combine_arr.shape"
   ]
  },
  {
   "cell_type": "code",
   "execution_count": 39,
   "id": "8a066bfe",
   "metadata": {},
   "outputs": [
    {
     "data": {
      "image/png": "[encoded data removed]",
      "text/plain": [
       "<Figure size 432x288 with 1 Axes>"
      ]
     },
     "metadata": {
      "needs_background": "light"
     },
     "output_type": "display_data"
    }
   ],
   "source": [
    "divx=dist_grid_t(x1,4)\n",
    "div_grid=dist_grid_t(grid1,4)\n",
    "\n",
    "for i in range(4):\n",
    "    plt.plot(divx.mul_arrays_t[i],div_grid.mul_arrays_t[i])\n",
    "#     plt.show()"
   ]
  },
  {
   "cell_type": "code",
   "execution_count": 21,
   "id": "4b7b6463",
   "metadata": {},
   "outputs": [],
   "source": [
    "def sync_scheme(grid,scheme,type_sch):\n",
    "        out_grid=grid.copy()\n",
    "        if (type_sch==1):\n",
    "            #Constant stencil Apply convolution circularly\n",
    "            pad_size=k_size//2\n",
    "            padded_out=F.pad(grid,(pad_size,pad_size),mode='circular')\n",
    "            conv1=1\n",
    "            out_grid=conv1*self.grid_256\n",
    "        elif(type_sch==2):\n",
    "            if(scheme=='upwind'):\n",
    "                k_size=3\n",
    "                pad_size=k_size//2\n",
    "                padded_out=F.pad(grid,(pad_size,pad_size),mode='circular')\n",
    "                for i in range(len(grid)):\n",
    "                    if(grid[i]<0): #Apply F.D.\n",
    "                        out_grid[i]=grid[i+2]-grid[i+1]\n",
    "                    elif(grid[i]>=0): #Apply B.D.\n",
    "                        out_grid[i]=grid[i+1]-grid[i]\n",
    "        else: \n",
    "            raise ValueError(\"Stencil must be constant 1 or variable 2\")\n",
    "            \n",
    "        return out_grid"
   ]
  },
  {
   "cell_type": "code",
   "execution_count": 23,
   "id": "93ff538f",
   "metadata": {},
   "outputs": [],
   "source": [
    "'''Given a grid at t = 0, can we progress further in time to t = 1,2,...1024'''"
   ]
  },
  {
   "cell_type": "code",
   "execution_count": 2,
   "id": "16dba4ab",
   "metadata": {},
   "outputs": [],
   "source": [
    "class sim_1d:\n",
    "    def __init__(self,grid_init,scheme_tag,typesch):\n",
    "        self.grid_256=grid_256\n",
    "        self.scheme_tag=scheme_tag \n",
    "        self.typesch=typesch\n",
    "    def time_propagation(self):\n",
    "        grid_tnew= sync_scheme(self.grid_256,self.scheme_tag,self.typesch)\n",
    "        return grid_tnew"
   ]
  },
  {
   "cell_type": "code",
   "execution_count": null,
   "id": "3ca64f38",
   "metadata": {},
   "outputs": [],
   "source": [
    "'''Write down all ideas diagramatically and analyze'''"
   ]
  },
  {
   "cell_type": "code",
   "execution_count": null,
   "id": "436812c6",
   "metadata": {},
   "outputs": [],
   "source": []
  },
  {
   "cell_type": "code",
   "execution_count": null,
   "id": "ad298de8",
   "metadata": {},
   "outputs": [],
   "source": []
  },
  {
   "cell_type": "code",
   "execution_count": null,
   "id": "5913f3b7",
   "metadata": {},
   "outputs": [],
   "source": []
  }
 ],
 "metadata": {
  "kernelspec": {
   "display_name": "torCH",
   "language": "python",
   "name": "torch"
  },
  "language_info": {
   "codemirror_mode": {
    "name": "ipython",
    "version": 3
   },
   "file_extension": ".py",
   "mimetype": "text/x-python",
   "name": "python",
   "nbconvert_exporter": "python",
   "pygments_lexer": "ipython3",
   "version": "3.9.7"
  }
 },
 "nbformat": 4,
 "nbformat_minor": 5
}
