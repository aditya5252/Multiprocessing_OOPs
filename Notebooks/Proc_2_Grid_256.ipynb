{
 "cells": [
  {
   "cell_type": "code",
   "execution_count": 1,
   "id": "98fd5852",
   "metadata": {},
   "outputs": [],
   "source": [
    "import numpy as np\n",
    "import torch.nn.functional as F"
   ]
  },
  {
   "cell_type": "code",
   "execution_count": null,
   "id": "e5ff0ff7",
   "metadata": {},
   "outputs": [],
   "source": [
    "'''\n",
    "CREATE SUPER OBJECT\n",
    "Create object of 256 array \n",
    "Divide into 2 objects of size 128\n",
    "Create additional objects for :\n",
    "    1. Buffer points \n",
    "    2. Boundary points \n",
    "'''"
   ]
  },
  {
   "cell_type": "code",
   "execution_count": null,
   "id": "4e313490",
   "metadata": {},
   "outputs": [],
   "source": [
    "'''\n",
    "Given grid object at time = t \n",
    "Create grid object at time = t + delt\n",
    "\n",
    "'''"
   ]
  },
  {
   "cell_type": "code",
   "execution_count": null,
   "id": "024a3edd",
   "metadata": {},
   "outputs": [],
   "source": [
    "'''\n",
    "First pad the input grid before applying any stencil \n",
    "\n",
    "stencil object gives given scheme's stencil \n",
    "Upwind\n",
    "Vanleer\n",
    "'''"
   ]
  },
  {
   "cell_type": "code",
   "execution_count": 14,
   "id": "0d29013e",
   "metadata": {},
   "outputs": [
    {
     "name": "stdout",
     "output_type": "stream",
     "text": [
      "[-5. -4. -3. -2. -1.  0.  1.  2.  3.  4.  5.  6.  7.  8.]\n",
      "[-5. -4. -3. -2. -1.  0.  0.  0.  0.  0.  0.  0.  0.  0.]\n"
     ]
    }
   ],
   "source": [
    "x=np.linspace(-5,8,14)\n",
    "print(x)\n",
    "x[x>=0]=0\n",
    "print(x)"
   ]
  },
  {
   "cell_type": "code",
   "execution_count": 17,
   "id": "17290dbc",
   "metadata": {},
   "outputs": [],
   "source": [
    "if (2<0):\n",
    "    print('lnerhlkg')"
   ]
  },
  {
   "cell_type": "code",
   "execution_count": 2,
   "id": "379361ab",
   "metadata": {},
   "outputs": [],
   "source": [
    "def stencil(scheme):\n",
    "    \n",
    "    return scheme\n",
    "    "
   ]
  },
  {
   "cell_type": "code",
   "execution_count": 21,
   "id": "4b7b6463",
   "metadata": {},
   "outputs": [],
   "source": [
    "def sync_scheme(grid,scheme,type_sch):\n",
    "        out_grid=grid.copy()\n",
    "        if (type_sch==1):\n",
    "            #Constant stencil Apply convolution circularly\n",
    "            pad_size=k_size//2\n",
    "            padded_out=F.pad(grid,(pad_size,pad_size),mode='circular')\n",
    "            conv1=1\n",
    "            out_grid=conv1*self.grid_256\n",
    "        elif(type_sch==2):\n",
    "            if(scheme=='upwind'):\n",
    "                k_size=3\n",
    "                pad_size=k_size//2\n",
    "                padded_out=F.pad(grid,(pad_size,pad_size),mode='circular')\n",
    "                for i in range(len(grid)):\n",
    "                    if(grid[i]<0): #Apply F.D.\n",
    "                        out_grid[i]=grid[i+2]-grid[i+1]\n",
    "                    elif(grid[i]>=0): #Apply B.D.\n",
    "                        out_grid[i]=grid[i+1]-grid[i]\n",
    "        else: \n",
    "            raise ValueError(\"Stencil must be constant 1 or variable 2\")\n",
    "            \n",
    "        return out_grid"
   ]
  },
  {
   "cell_type": "code",
   "execution_count": 23,
   "id": "93ff538f",
   "metadata": {},
   "outputs": [],
   "source": [
    "'''Given a grid at t = 0, can we progress further in time to t = 1,2,...1024'''"
   ]
  },
  {
   "cell_type": "code",
   "execution_count": 2,
   "id": "16dba4ab",
   "metadata": {},
   "outputs": [],
   "source": [
    "class sim_1d:\n",
    "    def __init__(self,grid_init,scheme_tag,typesch):\n",
    "        self.grid_256=grid_256\n",
    "        self.scheme_tag=scheme_tag \n",
    "        self.typesch=typesch\n",
    "    def time_propagation(self):\n",
    "        grid_tnew= sync_scheme(self.grid_256,self.scheme_tag,self.typesch)\n",
    "        return grid_tnew"
   ]
  },
  {
   "cell_type": "code",
   "execution_count": null,
   "id": "3ca64f38",
   "metadata": {},
   "outputs": [],
   "source": [
    "'''Write down all ideas diagramatically and analyze'''"
   ]
  },
  {
   "cell_type": "code",
   "execution_count": null,
   "id": "436812c6",
   "metadata": {},
   "outputs": [],
   "source": []
  },
  {
   "cell_type": "code",
   "execution_count": null,
   "id": "ad298de8",
   "metadata": {},
   "outputs": [],
   "source": []
  },
  {
   "cell_type": "code",
   "execution_count": null,
   "id": "5913f3b7",
   "metadata": {},
   "outputs": [],
   "source": []
  }
 ],
 "metadata": {
  "kernelspec": {
   "display_name": "torCH",
   "language": "python",
   "name": "torch"
  },
  "language_info": {
   "codemirror_mode": {
    "name": "ipython",
    "version": 3
   },
   "file_extension": ".py",
   "mimetype": "text/x-python",
   "name": "python",
   "nbconvert_exporter": "python",
   "pygments_lexer": "ipython3",
   "version": "3.9.7"
  }
 },
 "nbformat": 4,
 "nbformat_minor": 5
}
